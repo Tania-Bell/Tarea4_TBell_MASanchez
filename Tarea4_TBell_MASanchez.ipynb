{
 "cells": [
  {
   "cell_type": "markdown",
   "metadata": {},
   "source": [
    "<img style=\"float: left; margin: 30px 15px 15px 15px;\" src=\"https://pngimage.net/wp-content/uploads/2018/06/logo-iteso-png-5.png\" width=\"300\" height=\"500\" /> \n",
    "    \n",
    "    \n",
    "### <font color='navy'> Simulación de procesos financieros. \n",
    "\n",
    "**Nombres:** Marco Antonio Sánchez Covarrubias (estudiante 1) y Tania Bell Nicholls (estudiante 2)\n",
    "\n",
    "**Fecha:** 19 de septiembre del 2021.\n",
    "\n",
    "**Expediente** : IF720268, IF726767.\n",
    "**Profesor:** Oscar David Jaramillo Zuluaga.\n",
    "    \n",
    "**Link Github**: https://github.com/Tania-Bell/Tarea4_TBell_MASanchez.git\n",
    "\n",
    "# Tarea 4: Clase 7"
   ]
  },
  {
   "cell_type": "markdown",
   "metadata": {},
   "source": [
    "### Enunciado 1:\n",
    "\n",
    "Como ejemplo simple de una simulación de Monte Carlo, considere calcular la probabilidad de una suma particular del lanzamiento de tres dados (cada dado tiene valores del uno al seis). Además cada dado tiene las siguientes carácterísticas: el primer dado no está cargado (distribución uniforme todos son equiprobables); el segundo y tercer dado están cargados basados en una distribución binomial con parámetros (`n=5, p=0.5` y `n=5, p=0.2`). Calcule la probabilidad de que la suma resultante sea 7, 14 o 18. "
   ]
  },
  {
   "cell_type": "code",
   "execution_count": 13,
   "metadata": {},
   "outputs": [],
   "source": [
    "###### Solucion 1: Estudiante 1\n",
    "import numpy as np\n",
    "import matplotlib.pyplot as plt\n",
    "import scipy.stats as st\n",
    "\n",
    "N = 100000\n",
    "def sum_dados():\n",
    "    return (np.random.randint(1,7,1)) + (st.binom(n=5, p=0.5).rvs(size=1)) + (st.binom(n=5, p=0.2).rvs(size=1))\n",
    "\n",
    "prob = [sum_dados() for i in range(N)]\n"
   ]
  },
  {
   "cell_type": "code",
   "execution_count": 16,
   "metadata": {},
   "outputs": [
    {
     "name": "stdout",
     "output_type": "stream",
     "text": [
      "0.1465942857142857\n",
      "0.04576\n",
      "4.571428571428571e-05\n"
     ]
    }
   ],
   "source": [
    "y, x = np.histogram(prob, bins=16, density=True)\n",
    "print(f'{y[4]}')\n",
    "print(f'{y[11]}')\n",
    "print(f'{y[15]}')"
   ]
  },
  {
   "cell_type": "code",
   "execution_count": 11,
   "metadata": {},
   "outputs": [
    {
     "name": "stdout",
     "output_type": "stream",
     "text": [
      "0.16136\n",
      "0.00039\n",
      "0.0\n"
     ]
    }
   ],
   "source": [
    "###### Solucion 1: Estudiante 2\n",
    "import random\n",
    "import numpy as np\n",
    "from scipy import stats\n",
    "\n",
    "n = 100000\n",
    "rolls = [random.randint(1,6)+stats.binom.rvs(5, 0.5)+stats.binom.rvs(5, 0.2) for i in range(n)]\n",
    "def probabilidad(r, s):\n",
    "    suma = [7 for r in rolls if r==s]\n",
    "    return len(suma) / len(r)\n",
    "print(probabilidad(rolls,7))\n",
    "print(probabilidad(rolls,14))\n",
    "print(probabilidad(rolls,18))"
   ]
  },
  {
   "cell_type": "markdown",
   "metadata": {},
   "source": [
    "### Enunciado 2: Ejercicio de aplicación- Cafetería Central\n",
    "\n",
    "Premisas para la simulación:\n",
    "- Negocio de alimentos que vende bebidas y alimentos.\n",
    "- Negocio dentro del ITESO.\n",
    "- Negocio en cafetería central.\n",
    "- Tipo de clientes (hombres y mujeres).\n",
    "- Rentabilidad del 60%.\n",
    "\n",
    "#### Objetivo\n",
    "Realizar una simulación estimado el tiempo medio que se tardaran los clientes en ser atendidos entre el horario de 6:30 a 1 pm. Además saber el consumo. \n",
    "**Analizar supuestos y limitantes**"
   ]
  },
  {
   "cell_type": "markdown",
   "metadata": {},
   "source": [
    "#### Supuestos en simulación\n",
    "Clasificación de clientes: \n",
    "- Mujer  = 1 $\\longrightarrow$ aleatorio < 0.5\n",
    "- Hombre = 0 $\\longrightarrow$ aleatorio $\\geq$ 0.5.\n",
    "\n",
    "Condiciones iniciales:\n",
    "- Todas las distrubuciones de probabilidad se supondrán uniformes.\n",
    "- Tiempo de simulación: 6:30 am - 1:30pm $\\longrightarrow$ T = 7 horas = 25200 seg.\n",
    "- Tiempo de llegada hasta ser atendido: Min=5seg, Max=30seg.\n",
    "- Tiempo que tardan los clientes en ser atendidos:\n",
    "    - Mujer: Min = 1 min= 60seg, Max = 5 min = 300 seg\n",
    "    - Hombre: Min = 40 seg, Max = 2 min= 120 seg\n",
    "- Consumo según el tipo de cliente:\n",
    "    - Mujer: Min = 30 pesos, Max = 100 pesos\n",
    "    - Hombre: Min = 20 pesos, Max = 80 pesos\n",
    "\n",
    "Responder las siguientes preguntas basados en los datos del problema:\n",
    "1. ¿Cuáles fueron los gastos de los hombres y las mujeres en 5 días de trabajo?.\n",
    "2. ¿Cuál fue el consumo promedio de los hombres y mujeres?\n",
    "3. ¿Cuál fue el número de personas atendidas por día?\n",
    "4. ¿Cuál fue el tiempo de atención promedio?\n",
    "5. ¿Cuánto fue la ganancia promedio de la cafetería en 5 días de trabajo y su respectiva rentabilidad?"
   ]
  },
  {
   "cell_type": "code",
   "execution_count": 17,
   "metadata": {},
   "outputs": [],
   "source": [
    "################## Datos del problema\n",
    "d = 5\n",
    "T =25200\n",
    "T_at_min = 5; T_at_max = 30\n",
    "T_mujer_min =60; T_mujer_max = 300\n",
    "T_hombre_min = 40; T_hombre_max = 120\n",
    "C_mujer_min = 30; C_mujer_max = 100\n",
    "C_hombre_min = 20; C_hombre_max = 80"
   ]
  },
  {
   "cell_type": "code",
   "execution_count": 22,
   "metadata": {},
   "outputs": [
    {
     "name": "stdout",
     "output_type": "stream",
     "text": [
      "Gasto mujeres $27254\n",
      "Gasto hombres $22563\n"
     ]
    }
   ],
   "source": [
    "########### Solucion 2: Estudiante 1\n",
    "\n",
    "########### inciso 1\n",
    "def simular_tienda():\n",
    "    # Datos del problema\n",
    "    d = 5\n",
    "    T = 25200\n",
    "    T_at_min = 5; T_at_max = 30\n",
    "    T_mujer_min =60; T_mujer_max = 300\n",
    "    T_hombre_min = 40; T_hombre_max = 120\n",
    "    C_mujer_min = 30; C_mujer_max = 100\n",
    "    C_hombre_min = 20; C_hombre_max = 80\n",
    "    \n",
    "    mujeres_atendidas = 0\n",
    "    hombres_atendidos = 0\n",
    "    personas_atendidas = 0\n",
    "\n",
    "    ingresos_h = 0\n",
    "    ingresos_w = 0\n",
    "    ingresos = 0\n",
    "    \n",
    "    t_atencion = 0\n",
    "\n",
    "    while T > 0:\n",
    "        # Tiempo en que te atienden\n",
    "        T -= np.random.randint(T_at_min, T_at_max + 1)\n",
    "\n",
    "        # Género de la persona\n",
    "        is_woman = 1 if np.random.rand() < 0.5 else 0\n",
    "\n",
    "        # Descontamos el tiempo y agregamos el gasto dependiendo del género\n",
    "        if is_woman:\n",
    "            tiempo = np.random.randint(T_mujer_min, T_mujer_max + 1)\n",
    "            mujeres_atendidas += 1\n",
    "            gasto = np.random.randint(C_mujer_min, C_mujer_max + 1)\n",
    "            ingresos_w += gasto\n",
    "        else:\n",
    "            tiempo = np.random.randint(T_hombre_min, T_hombre_max + 1)\n",
    "            hombres_atendidos += 1\n",
    "            gasto = np.random.randint(C_hombre_min, C_hombre_max + 1)\n",
    "            ingresos_h += gasto\n",
    "        # Descontamos el tiempo\n",
    "        T -= tiempo\n",
    "        t_atencion += tiempo\n",
    "        # Agregamos al total de ingresos\n",
    "        ingresos += gasto\n",
    "        # Sumamos a personas atendidas\n",
    "        personas_atendidas += 1\n",
    "    return ([mujeres_atendidas, hombres_atendidos, personas_atendidas], [ingresos_w, ingresos_h, ingresos], t_atencion)\n",
    "\n",
    "gasto_w, gasto_h = tuple(reduce(lambda x,y: [x[0]+y[0], x[1]+y[1]], \n",
    "                                [simular_tienda()[1][:2] for i in range(5)]))\n",
    "print(f'Gasto mujeres ${gasto_w}')\n",
    "print(f'Gasto hombres ${gasto_h}')"
   ]
  },
  {
   "cell_type": "code",
   "execution_count": 24,
   "metadata": {},
   "outputs": [
    {
     "name": "stdout",
     "output_type": "stream",
     "text": [
      "Consumo promedio de mujeres $70.87\n",
      "Consumo promedio de hombres $52.01\n"
     ]
    }
   ],
   "source": [
    "########### Solucion 2: Estudiante 1\n",
    "\n",
    "########### inciso 2\n",
    "\n",
    "clientes, ingresos, tiempo_atencion = simular_tienda()\n",
    "print(f'Consumo promedio de mujeres ${ingresos[0] / clientes[0]:.2f}')\n",
    "print(f'Consumo promedio de hombres ${ingresos[1] / clientes[1]:.2f}')"
   ]
  },
  {
   "cell_type": "code",
   "execution_count": 25,
   "metadata": {},
   "outputs": [
    {
     "name": "stdout",
     "output_type": "stream",
     "text": [
      "Clientes atendidos durante el día: 170\n"
     ]
    }
   ],
   "source": [
    "########### Solucion 2: Estudiante 1\n",
    "\n",
    "########### inciso 3\n",
    "print(f'Clientes atendidos durante el día: {clientes[2]}')"
   ]
  },
  {
   "cell_type": "code",
   "execution_count": 26,
   "metadata": {},
   "outputs": [
    {
     "name": "stdout",
     "output_type": "stream",
     "text": [
      "130.55\n"
     ]
    }
   ],
   "source": [
    "########### Solucion 2: Estudiante 1\n",
    "\n",
    "########### inciso 4\n",
    "\n",
    "print(f'{tiempo_atencion / clientes[2]:.2f}')"
   ]
  },
  {
   "cell_type": "code",
   "execution_count": 30,
   "metadata": {},
   "outputs": [
    {
     "name": "stdout",
     "output_type": "stream",
     "text": [
      "Ingresos $49817.00 \n",
      "Rentabilidad $29890.20\n"
     ]
    }
   ],
   "source": [
    "########### Solucion 2: Estudiante 1\n",
    "\n",
    "########### inciso 5\n",
    "\n",
    "ingresos5 = gasto_w+gasto_h\n",
    "print(f'Ingresos ${ingresos5:.2f} \\nRentabilidad ${ingresos5*0.6:.2f}')"
   ]
  },
  {
   "cell_type": "code",
   "execution_count": 20,
   "metadata": {},
   "outputs": [
    {
     "name": "stdout",
     "output_type": "stream",
     "text": [
      "1. Gastos de mujeres, gastos de hombres: (27561, 21642)\n"
     ]
    }
   ],
   "source": [
    "########### Solucion 2: Estudiante 2 \n",
    "\n",
    "########### inciso 1\n",
    "from statistics import mean\n",
    "def gastos(d,T,T_at_min,T_at_max,T_mujer_min,T_mujer_max,T_hombre_min,T_hombre_max,C_mujer_min,C_mujer_max,C_hombre_min,C_hombre_max):\n",
    "    time=0\n",
    "    cost_m=0\n",
    "    cost_h=0\n",
    "    while time < d*T:\n",
    "        s = random.randint(0,1)\n",
    "        if s == 0:\n",
    "            time_m = random.randint(T_at_min,T_at_max)+random.randint(T_mujer_min,T_mujer_max)\n",
    "            time += time_m\n",
    "            cost_m += random.randint(C_mujer_min,C_mujer_max)\n",
    "        else:\n",
    "            time_h = random.randint(T_at_min,T_at_max)+random.randint(T_hombre_min,T_hombre_max)\n",
    "            time += time_h\n",
    "            cost_h += random.randint(C_hombre_min,C_hombre_max)\n",
    "    return cost_m, cost_h\n",
    "\n",
    "\n",
    "\n",
    "print('1. Gastos de mujeres, gastos de hombres:', gastos(d,T,T_at_min,T_at_max,T_mujer_min,T_mujer_max,T_hombre_min,T_hombre_max,C_mujer_min,C_mujer_max,C_hombre_min,C_hombre_max))"
   ]
  },
  {
   "cell_type": "code",
   "execution_count": 20,
   "metadata": {},
   "outputs": [
    {
     "name": "stdout",
     "output_type": "stream",
     "text": [
      "2. Consumo promedio mujeres, consumo promedio hombres: (65.19954128440367, 49.509433962264154)\n"
     ]
    }
   ],
   "source": [
    "########### Solucion 2: Estudiante 2 \n",
    "\n",
    "########### inciso 2\n",
    "def consumo_promedio(d,T,T_at_min,T_at_max,T_mujer_min,T_mujer_max,T_hombre_min,T_hombre_max,C_mujer_min,C_mujer_max,C_hombre_min,C_hombre_max):\n",
    "    time=0\n",
    "    cost_m=[]\n",
    "    cost_h=[]\n",
    "    while time < d*T:\n",
    "        s = random.randint(0,1)\n",
    "        if s == 0:\n",
    "            time_m = random.randint(T_at_min,T_at_max)+random.randint(T_mujer_min,T_mujer_max)\n",
    "            time += time_m\n",
    "            cost_m.append(random.randint(C_mujer_min,C_mujer_max))\n",
    "        else:\n",
    "            time_h = random.randint(T_at_min,T_at_max)+random.randint(T_hombre_min,T_hombre_max)\n",
    "            time += time_h\n",
    "            cost_h.append(random.randint(C_hombre_min,C_hombre_max))\n",
    "    return mean(cost_m), mean(cost_h)\n",
    "\n",
    "\n",
    "\n",
    "print('2. Consumo promedio mujeres, consumo promedio hombres:', consumo_promedio(d,T,T_at_min,T_at_max,T_mujer_min,T_mujer_max,T_hombre_min,T_hombre_max,C_mujer_min,C_mujer_max,C_hombre_min,C_hombre_max))"
   ]
  },
  {
   "cell_type": "code",
   "execution_count": 21,
   "metadata": {},
   "outputs": [
    {
     "name": "stdout",
     "output_type": "stream",
     "text": [
      "3. Número de personas atendidas por día: (168, 164, 170, 177, 161)\n"
     ]
    }
   ],
   "source": [
    "########### Solucion 2: Estudiante 2 \n",
    "\n",
    "########### inciso 3\n",
    "def numero_de_personas(d,T,T_at_min,T_at_max,T_mujer_min,T_mujer_max,T_hombre_min,T_hombre_max):\n",
    "    time={1:[],2:[],3:[],4:[],5:[]}\n",
    "    time_t = 0\n",
    "    for dia in range(1,d+1):\n",
    "        while sum(time[dia]) < T:\n",
    "            s = random.randint(0,1)\n",
    "            if s == 0:\n",
    "                time_m = random.randint(T_at_min,T_at_max)+random.randint(T_mujer_min,T_mujer_max)\n",
    "                time_t += time_m\n",
    "                time[dia].append(time_m)\n",
    "            else:\n",
    "                time_h = random.randint(T_at_min,T_at_max)+random.randint(T_hombre_min,T_hombre_max)\n",
    "                time_t += time_h\n",
    "                time[dia].append(time_h)\n",
    "    return len(time[1]), len(time[2]), len(time[3]), len(time[4]), len(time[5])\n",
    "\n",
    "\n",
    "\n",
    "print('3. Número de personas atendidas por día:', numero_de_personas(d,T,T_at_min,T_at_max,T_mujer_min,T_mujer_max,T_hombre_min,T_hombre_max))"
   ]
  },
  {
   "cell_type": "code",
   "execution_count": 22,
   "metadata": {},
   "outputs": [
    {
     "name": "stdout",
     "output_type": "stream",
     "text": [
      "4. Tiempo de atención promedio: 147.95422535211267\n"
     ]
    }
   ],
   "source": [
    "########### Solucion 2: Estudiante 2 \n",
    "\n",
    "########### inciso 4\n",
    "def tiempo_promedio(d,T,T_at_min,T_at_max,T_mujer_min,T_mujer_max,T_hombre_min,T_hombre_max):\n",
    "    time=[]\n",
    "    time_t = 0\n",
    "    while time_t < d*T:\n",
    "        s = random.randint(0,1)\n",
    "        if s == 0:\n",
    "            time_m = random.randint(T_at_min,T_at_max)+random.randint(T_mujer_min,T_mujer_max)\n",
    "            time_t += time_m\n",
    "            time.append(time_m)\n",
    "        else:\n",
    "            time_h = random.randint(T_at_min,T_at_max)+random.randint(T_hombre_min,T_hombre_max)\n",
    "            time_t += time_h\n",
    "            time.append(time_h)\n",
    "    return mean(time)\n",
    "\n",
    "\n",
    "print('4. Tiempo de atención promedio:', tiempo_promedio(d,T,T_at_min,T_at_max,T_mujer_min,T_mujer_max,T_hombre_min,T_hombre_max))"
   ]
  },
  {
   "cell_type": "code",
   "execution_count": 23,
   "metadata": {},
   "outputs": [
    {
     "name": "stdout",
     "output_type": "stream",
     "text": [
      "5. Ganancia, rentabilidad: (48069, 28841.399999999998)\n"
     ]
    }
   ],
   "source": [
    "########### Solucion 2: Estudiante 2 \n",
    "\n",
    "########### inciso 5\n",
    "def ganancias_rentabilidad(d,T,T_at_min,T_at_max,T_mujer_min,T_mujer_max,T_hombre_min,T_hombre_max,C_mujer_min,C_mujer_max,C_hombre_min,C_hombre_max):\n",
    "    time=0\n",
    "    cost_t=[]\n",
    "    while time < d*T:\n",
    "        s = random.randint(0,1)\n",
    "        if s == 0:\n",
    "            time_m = random.randint(T_at_min,T_at_max)+random.randint(T_mujer_min,T_mujer_max)\n",
    "            time += time_m\n",
    "            cost_t.append(random.randint(C_mujer_min,C_mujer_max))\n",
    "        else:\n",
    "            time_h = random.randint(T_at_min,T_at_max)+random.randint(T_hombre_min,T_hombre_max)\n",
    "            time += time_h\n",
    "            cost_t.append(random.randint(C_hombre_min,C_hombre_max))\n",
    "    return sum(cost_t), sum(cost_t)*0.6\n",
    "\n",
    "print('5. Ganancia, rentabilidad:', ganancias_rentabilidad(d,T,T_at_min,T_at_max,T_mujer_min,T_mujer_max,T_hombre_min,T_hombre_max,C_mujer_min,C_mujer_max,C_hombre_min,C_hombre_max))"
   ]
  }
 ],
 "metadata": {
  "kernelspec": {
   "display_name": "Python 3",
   "language": "python",
   "name": "python3"
  },
  "language_info": {
   "codemirror_mode": {
    "name": "ipython",
    "version": 3
   },
   "file_extension": ".py",
   "mimetype": "text/x-python",
   "name": "python",
   "nbconvert_exporter": "python",
   "pygments_lexer": "ipython3",
   "version": "3.8.8"
  }
 },
 "nbformat": 4,
 "nbformat_minor": 4
}
